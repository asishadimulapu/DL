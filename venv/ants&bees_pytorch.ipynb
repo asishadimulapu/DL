{
 "cells": [
  {
   "cell_type": "code",
   "execution_count": 2,
   "id": "957604c8",
   "metadata": {},
   "outputs": [],
   "source": [
    "import os\n",
    "import torch\n",
    "import torch.nn as nn\n",
    "import torch.optim as optim\n",
    "from torchvision import datasets,transforms,models\n",
    "from torch.utils.data import DataLoader"
   ]
  },
  {
   "cell_type": "code",
   "execution_count": 3,
   "id": "3aa5b13b",
   "metadata": {},
   "outputs": [],
   "source": [
    "transforms={'train':transforms.Compose([\n",
    "    transforms.ToTensor(),\n",
    "    transforms.RandomResizedCrop(128),\n",
    "    transforms.RandomHorizontalFlip(),\n",
    "    transforms.Normalize((0.5,0.5,0.5),(0.5,0.5,0.5))]),\n",
    "    'val':transforms.Compose([\n",
    "    transforms.ToTensor(),\n",
    "    transforms.RandomResizedCrop(128),\n",
    "    transforms.RandomHorizontalFlip(),\n",
    "    transforms.Normalize((0.5,0.5,0.5),(0.5,0.5,0.5))])\n",
    "}"
   ]
  },
  {
   "cell_type": "code",
   "execution_count": 19,
   "id": "033556f5",
   "metadata": {},
   "outputs": [],
   "source": [
    "data_dir='F:/DL/venv/hymenoptera_data'\n",
    "#image_datasets={x:datasets.ImageFolder(os.path.join(data_dir,x),transform=transforms[x]) for x in ['train','val']}\n"
   ]
  },
  {
   "cell_type": "code",
   "execution_count": 20,
   "id": "4388067e",
   "metadata": {},
   "outputs": [],
   "source": [
    "image_datasets={}\n",
    "image_datasets['train']=datasets.ImageFolder(os.path.join(data_dir,'train'),transform=transforms['train'])\n",
    "image_datasets['val']=datasets.ImageFolder(os.path.join(data_dir,'val'),transform=transforms['val'])"
   ]
  },
  {
   "cell_type": "code",
   "execution_count": 21,
   "id": "26909c1f",
   "metadata": {},
   "outputs": [],
   "source": [
    "data_loader={}\n",
    "data_loader['train']=DataLoader(image_datasets['train'],batch_size=32,shuffle=True)\n",
    "data_loader['val']=DataLoader(image_datasets['val'],batch_size=32,shuffle=True)"
   ]
  },
  {
   "cell_type": "code",
   "execution_count": 22,
   "id": "5370f618",
   "metadata": {},
   "outputs": [
    {
     "name": "stderr",
     "output_type": "stream",
     "text": [
      "c:\\Users\\Admin\\AppData\\Local\\Programs\\Python\\Python310\\lib\\site-packages\\torchvision\\models\\_utils.py:208: UserWarning: The parameter 'pretrained' is deprecated since 0.13 and may be removed in the future, please use 'weights' instead.\n",
      "  warnings.warn(\n",
      "c:\\Users\\Admin\\AppData\\Local\\Programs\\Python\\Python310\\lib\\site-packages\\torchvision\\models\\_utils.py:223: UserWarning: Arguments other than a weight enum or `None` for 'weights' are deprecated since 0.13 and may be removed in the future. The current behavior is equivalent to passing `weights=ResNet18_Weights.IMAGENET1K_V1`. You can also use `weights=ResNet18_Weights.DEFAULT` to get the most up-to-date weights.\n",
      "  warnings.warn(msg)\n",
      "Downloading: \"https://download.pytorch.org/models/resnet18-f37072fd.pth\" to C:\\Users\\Admin/.cache\\torch\\hub\\checkpoints\\resnet18-f37072fd.pth\n",
      "100.0%\n"
     ]
    }
   ],
   "source": [
    "\n",
    "model=models.resnet18(pretrained=True)\n",
    "#print(model)\n",
    "model_ftrs=model.fc.in_features\n",
    "model_ft=nn.Linear(model_ftrs,out_features=2)\n",
    "criterian=nn.CrossEntropyLoss()\n",
    "optimizer=optim.Adam(model_ft.parameters(),lr=0.0001)\n",
    "model.fc = model_ft"
   ]
  },
  {
   "cell_type": "code",
   "execution_count": 25,
   "id": "45011469",
   "metadata": {},
   "outputs": [
    {
     "name": "stdout",
     "output_type": "stream",
     "text": [
      "0.9629392623901367\n",
      "0.8611027002334595\n",
      "0.7458251118659973\n",
      "0.5976598858833313\n",
      "0.6390175223350525\n",
      "0.8401811718940735\n",
      "0.7668966054916382\n",
      "0.5902200937271118\n",
      "0.7464050054550171\n",
      "0.5515725612640381\n",
      "0.5932662487030029\n",
      "0.5893219113349915\n",
      "0.6731448769569397\n",
      "0.5822308659553528\n",
      "0.6015377640724182\n",
      "0.4284846782684326\n",
      "0.5423152446746826\n",
      "0.5419543981552124\n",
      "0.33363184332847595\n",
      "0.4420878291130066\n",
      "0.42135152220726013\n",
      "0.5059835910797119\n",
      "0.4322318136692047\n",
      "0.5792705416679382\n",
      "0.44684940576553345\n",
      "0.43250998854637146\n",
      "0.3537134826183319\n",
      "0.3226604163646698\n",
      "0.3899152874946594\n",
      "0.44243699312210083\n"
     ]
    }
   ],
   "source": [
    "for epoch in range(30):\n",
    "    for input,label in data_loader['train']:\n",
    "        output=model(input)\n",
    "        loss=criterian(output,label)\n",
    "        loss.backward()\n",
    "        optimizer.step()\n",
    "        optimizer.zero_grad()\n",
    "    print(loss.item())\n"
   ]
  },
  {
   "cell_type": "code",
   "execution_count": 27,
   "id": "3689caa5",
   "metadata": {},
   "outputs": [
    {
     "name": "stdout",
     "output_type": "stream",
     "text": [
      "Accuracy: 81.69934640522875%\n",
      "153 125\n"
     ]
    }
   ],
   "source": [
    "model.eval()\n",
    "with torch.no_grad():\n",
    "    correct=0\n",
    "    total=0\n",
    "    for input,label in data_loader['val']:\n",
    "        output=model(input)\n",
    "        _,predicted=torch.max(output.data,1)\n",
    "        total+=label.size(0)\n",
    "        correct+=(predicted==label).sum().item()\n",
    "    print('Accuracy: {}%'.format(100*correct/total))\n",
    "    print(total, correct)"
   ]
  },
  {
   "cell_type": "code",
   "execution_count": null,
   "id": "888521e4",
   "metadata": {},
   "outputs": [],
   "source": []
  }
 ],
 "metadata": {
  "kernelspec": {
   "display_name": "Python 3",
   "language": "python",
   "name": "python3"
  },
  "language_info": {
   "codemirror_mode": {
    "name": "ipython",
    "version": 3
   },
   "file_extension": ".py",
   "mimetype": "text/x-python",
   "name": "python",
   "nbconvert_exporter": "python",
   "pygments_lexer": "ipython3",
   "version": "3.10.0"
  }
 },
 "nbformat": 4,
 "nbformat_minor": 5
}
