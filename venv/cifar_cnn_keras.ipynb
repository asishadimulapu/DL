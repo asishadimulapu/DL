{
 "cells": [
  {
   "cell_type": "markdown",
   "id": "2299c352",
   "metadata": {
    "id": "2299c352"
   },
   "source": [
    "## Load Libraries"
   ]
  },
  {
   "cell_type": "code",
   "execution_count": 3,
   "id": "1121335d",
   "metadata": {
    "executionInfo": {
     "elapsed": 11,
     "status": "ok",
     "timestamp": 1753890508229,
     "user": {
      "displayName": "Asish Adimulapu",
      "userId": "13484924839150131033"
     },
     "user_tz": -330
    },
    "id": "1121335d"
   },
   "outputs": [],
   "source": [
    "from keras.models import Sequential\n",
    "from keras.layers import Conv2D, Flatten, MaxPool2D, Dense\n",
    "from keras.datasets import cifar10\n",
    "from keras.utils import to_categorical"
   ]
  },
  {
   "cell_type": "markdown",
   "id": "062856a0",
   "metadata": {
    "id": "062856a0"
   },
   "source": [
    "## Loading Data"
   ]
  },
  {
   "cell_type": "code",
   "execution_count": 4,
   "id": "684c8103",
   "metadata": {
    "colab": {
     "base_uri": "https://localhost:8080/"
    },
    "executionInfo": {
     "elapsed": 6713,
     "status": "ok",
     "timestamp": 1753890514949,
     "user": {
      "displayName": "Asish Adimulapu",
      "userId": "13484924839150131033"
     },
     "user_tz": -330
    },
    "id": "684c8103",
    "outputId": "377a05a2-0df6-4199-9c9e-92938c15887b"
   },
   "outputs": [
    {
     "name": "stdout",
     "output_type": "stream",
     "text": [
      "Downloading data from https://www.cs.toronto.edu/~kriz/cifar-10-python.tar.gz\n",
      "\u001b[1m170498071/170498071\u001b[0m \u001b[32m━━━━━━━━━━━━━━━━━━━━\u001b[0m\u001b[37m\u001b[0m \u001b[1m4s\u001b[0m 0us/step\n"
     ]
    }
   ],
   "source": [
    "(x_train, y_train), (x_test, y_test) = cifar10.load_data()"
   ]
  },
  {
   "cell_type": "markdown",
   "id": "7ea64bbf",
   "metadata": {
    "id": "7ea64bbf"
   },
   "source": [
    "## Preprocessing"
   ]
  },
  {
   "cell_type": "code",
   "execution_count": 5,
   "id": "46a24a9e",
   "metadata": {
    "colab": {
     "base_uri": "https://localhost:8080/"
    },
    "executionInfo": {
     "elapsed": 5,
     "status": "ok",
     "timestamp": 1753890514969,
     "user": {
      "displayName": "Asish Adimulapu",
      "userId": "13484924839150131033"
     },
     "user_tz": -330
    },
    "id": "46a24a9e",
    "outputId": "de30c27a-aace-4947-f520-75cb50e9b0d2"
   },
   "outputs": [
    {
     "name": "stdout",
     "output_type": "stream",
     "text": [
      "[6]\n",
      "[0. 0. 0. 0. 0. 0. 1. 0. 0. 0.]\n"
     ]
    }
   ],
   "source": [
    "print(y_train[0])\n",
    "y_train = to_categorical(y_train)\n",
    "print(y_train[0])"
   ]
  },
  {
   "cell_type": "markdown",
   "id": "8d8f88ad",
   "metadata": {
    "id": "8d8f88ad"
   },
   "source": [
    "## Build Architecture"
   ]
  },
  {
   "cell_type": "code",
   "execution_count": 6,
   "id": "949640dc",
   "metadata": {
    "colab": {
     "base_uri": "https://localhost:8080/"
    },
    "executionInfo": {
     "elapsed": 25,
     "status": "ok",
     "timestamp": 1753890514995,
     "user": {
      "displayName": "Asish Adimulapu",
      "userId": "13484924839150131033"
     },
     "user_tz": -330
    },
    "id": "949640dc",
    "outputId": "74ec0b58-0f06-46ba-daf1-a432230bea76"
   },
   "outputs": [
    {
     "name": "stderr",
     "output_type": "stream",
     "text": [
      "/usr/local/lib/python3.11/dist-packages/keras/src/layers/reshaping/flatten.py:37: UserWarning: Do not pass an `input_shape`/`input_dim` argument to a layer. When using Sequential models, prefer using an `Input(shape)` object as the first layer in the model instead.\n",
      "  super().__init__(**kwargs)\n"
     ]
    }
   ],
   "source": [
    "model = Sequential()\n",
    "model.add(Conv2D(6,(3,3), activation='relu'))\n",
    "model.add(MaxPool2D((2,2)))\n",
    "model.add(Flatten(input_shape=(32, 32, 3)))\n",
    "model.add(Dense(128, activation='relu'))\n",
    "model.add(Dense(10, activation='softmax'))"
   ]
  }
 ],
 "metadata": {
  "accelerator": "GPU",
  "colab": {
   "gpuType": "T4",
   "provenance": []
  },
  "kernelspec": {
   "display_name": "Python 3",
   "name": "python3"
  },
  "language_info": {
   "codemirror_mode": {
    "name": "ipython",
    "version": 3
   },
   "file_extension": ".py",
   "mimetype": "text/x-python",
   "name": "python",
   "nbconvert_exporter": "python",
   "pygments_lexer": "ipython3",
   "version": "3.10.0"
  }
 },
 "nbformat": 4,
 "nbformat_minor": 5
}
